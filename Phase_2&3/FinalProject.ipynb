{
 "cells": [
  {
   "cell_type": "markdown",
   "metadata": {},
   "source": [
    "## Student: Dan Chung (dwc244) ##"
   ]
  },
  {
   "cell_type": "markdown",
   "metadata": {},
   "source": [
    "# I. Introduction #"
   ]
  },
  {
   "cell_type": "markdown",
   "metadata": {},
   "source": [
    "**What is the context of the work?**\n",
    "- Since COVID-19 has started spreading in the U.S., our country's economic activity practically stopped - what this means is that corporates in industries such as travel & leisure, hospitality, brick & mortar retail, entertainment, manufacturing, natural resources basically all lost their main sources of revenue. Companies, much like we take on mortgages, take on debt to finance the growth of their businesses - as of 2019, the size of U.S. corporate public debt market passed 9 trillion dollars, and U.S. corporate private debt market more than 1 trillion dollars. Why would people lend this much money to companies? To make investment returns, which is typically represented as the \"yield\" on the debt investments. How do companies pay these debt back? Through generating cash flows. Unfortunately right now, the companies mentioned in the above industries are not generating revenue, hence no cash flow. As you might have started to realize, the value of debt investments are highly dependent on the likelihood of companies repaying their debt, and during economic contractions and inactivity, the price tags on these debt investments fall, leading the yield on the debt investments to rise. The research looks at data of effr, VIX, leverage, and yields for publicly traded bonds of ratings: AAA, AA, A, BBB, BB, B, CCC & lower from 1999 to 2019. \n",
    "\n",
    "sources:\n",
    "- *Bloomberg: https://www.bloomberg.com/news/articles/2019-09-22/how-private-credit-soared-to-fuel-private-equity-boom-quicktake*\n",
    "- *Standard & Poor: https://www.spglobal.com/en/research-insights/articles/u-s-corporate-debt-market-the-state-of-play-in-2019*\n",
    "\n",
    "**What research question are you trying to answer?**\n",
    "- I am trying to determine how useful the 1. effective federal funds rate level, 2. volatility index, and 3. amount of leverage in companies' capital structures are as indicators of good investment opportunities in the public dbet market.   \n",
    " \n",
    "**What are your main findings?**\n",
    "- Effr is not indicative of when bonds will trade at a discount. VIX and leverage (Debt / Book Value of Equity) are generally good indicators of where public traded debt for different ratings at; the higher the predictor values (VIX and leverage), more likely it is for the debt to sell for cheaper in the market. In both instances, however, speculative grade debt, especially ccc & lower debt, are more likely going to be trading at a steeper discount. "
   ]
  },
  {
   "cell_type": "markdown",
   "metadata": {},
   "source": [
    "# II. Dataset #"
   ]
  },
  {
   "cell_type": "code",
   "execution_count": 99,
   "metadata": {},
   "outputs": [],
   "source": [
    "import numpy as np\n",
    "import pandas as pd\n",
    "pd.options.mode.chained_assignment = None\n",
    "from matplotlib import pyplot as plt\n",
    "from sklearn.linear_model import LinearRegression\n",
    "from sklearn.metrics import r2_score\n",
    "from datetime import datetime\n",
    "from scipy.stats import spearmanr"
   ]
  },
  {
   "cell_type": "code",
   "execution_count": 100,
   "metadata": {},
   "outputs": [
    {
     "name": "stdout",
     "output_type": "stream",
     "text": [
      "Data: effr\n",
      "Length:  18195\n",
      "       DATE  DFF\n",
      "0  7/1/1970  7.0\n",
      "1  7/2/1970  7.5\n",
      "2  7/3/1970  7.5\n",
      "3  7/4/1970  7.5\n",
      "4  7/5/1970  7.5 \n",
      "\n",
      "Data: vix\n",
      "Length:  7909\n",
      "       DATE VIXCLS\n",
      "0  1/2/1990  17.24\n",
      "1  1/3/1990  18.19\n",
      "2  1/4/1990  19.22\n",
      "3  1/5/1990  20.11\n",
      "4  1/8/1990  20.26 \n",
      "\n",
      "Data: yield_aaa\n",
      "Length:  6163\n",
      "         DATE BAMLC0A1CAAAEY\n",
      "0  12/31/1996           6.72\n",
      "1    1/1/1997              .\n",
      "2    1/2/1997            6.8\n",
      "3    1/3/1997            6.8\n",
      "4    1/6/1997            6.8 \n",
      "\n",
      "Data: yield_aa\n",
      "Length:  6163\n",
      "         DATE BAMLC0A2CAAEY\n",
      "0  1996-12-31          6.82\n",
      "1  1997-01-01             .\n",
      "2  1997-01-02          6.92\n",
      "3  1997-01-03          6.90\n",
      "4  1997-01-06          6.92 \n",
      "\n",
      "Data: yield_a\n",
      "Length:  6163\n",
      "         DATE BAMLC0A3CAEY\n",
      "0  1996-12-31         6.97\n",
      "1  1997-01-01            .\n",
      "2  1997-01-02         7.06\n",
      "3  1997-01-03         7.04\n",
      "4  1997-01-06         7.06 \n",
      "\n",
      "Data: yield_bbb\n",
      "Length:  6163\n",
      "         DATE BAMLC0A4CBBBEY\n",
      "0  1996-12-31           7.26\n",
      "1  1997-01-01              .\n",
      "2  1997-01-02           7.36\n",
      "3  1997-01-03           7.34\n",
      "4  1997-01-06           7.37 \n",
      "\n",
      "Data: rfr\n",
      "Length:  15215\n",
      "         DATE DGS10\n",
      "0  1962-01-02  4.06\n",
      "1  1962-01-03  4.03\n",
      "2  1962-01-04  3.99\n",
      "3  1962-01-05  4.02\n",
      "4  1962-01-08  4.03 \n",
      "\n",
      "Data: spread_bb\n",
      "Length:  6163\n",
      "         DATE BAMLH0A1HYBB\n",
      "0  12/31/1996         1.95\n",
      "1    1/1/1997            .\n",
      "2    1/2/1997         1.92\n",
      "3    1/3/1997         1.94\n",
      "4    1/6/1997         1.94 \n",
      "\n",
      "Data: spread_b\n",
      "Length:  6163\n",
      "         DATE BAMLH0A2HYB\n",
      "0  1996-12-31        3.61\n",
      "1  1997-01-01           .\n",
      "2  1997-01-02        3.51\n",
      "3  1997-01-03        3.54\n",
      "4  1997-01-06        3.55 \n",
      "\n",
      "Data: spread_ccc\n",
      "Length:  6163\n",
      "         DATE BAMLH0A3HYC\n",
      "0  1996-12-31        7.38\n",
      "1  1997-01-01           .\n",
      "2  1997-01-02        7.28\n",
      "3  1997-01-03        7.37\n",
      "4  1997-01-06        7.36 \n",
      "\n",
      "Data: leverage\n",
      "Length:  18195\n",
      "       DATE        LEV\n",
      "0  7/1/1970  56.216638\n",
      "1  7/2/1970  56.216638\n",
      "2  7/3/1970  56.216638\n",
      "3  7/4/1970  56.216638\n",
      "4  7/5/1970  56.216638 \n",
      "\n",
      "Data: pb\n",
      "Length:  7420\n",
      "         DATE  VALUE\n",
      "0  12/31/1999   5.05\n",
      "1    1/1/2000   5.05\n",
      "2    1/2/2000   5.05\n",
      "3    1/3/2000   5.05\n",
      "4    1/4/2000   5.05 \n",
      "\n"
     ]
    }
   ],
   "source": [
    "# import csv files from FRED and Other website\n",
    "\n",
    "# [Daily] effective federal funds rate\n",
    "effr = pd.read_csv(\"EFFR.csv\")\n",
    "print(\"Data: effr\")\n",
    "print(\"Length: \", len(effr))\n",
    "print(effr.head(), \"\\n\")\n",
    "\n",
    "# [Daily] volatility index\n",
    "vix = pd.read_csv(\"VIX.csv\")\n",
    "print(\"Data: vix\")\n",
    "print(\"Length: \", len(vix))\n",
    "print(vix.head(), \"\\n\")\n",
    "\n",
    "# [Daily] U.S. investment grade corporate bonds yield to maturity (AAA ~ BBB)\n",
    "yield_aaa = pd.read_csv(\"Yield_AAA.csv\")\n",
    "print(\"Data: yield_aaa\")\n",
    "print(\"Length: \", len(yield_aaa))\n",
    "print(yield_aaa.head(), \"\\n\")\n",
    "\n",
    "yield_aa = pd.read_csv(\"Yield_AA.csv\")\n",
    "print(\"Data: yield_aa\")\n",
    "print(\"Length: \", len(yield_aa))\n",
    "print(yield_aa.head(), \"\\n\")\n",
    "\n",
    "yield_a = pd.read_csv(\"Yield_A.csv\")\n",
    "print(\"Data: yield_a\")\n",
    "print(\"Length: \", len(yield_a))\n",
    "print(yield_a.head(), \"\\n\")\n",
    "\n",
    "yield_bbb = pd.read_csv(\"Yield_BBB.csv\")\n",
    "print(\"Data: yield_bbb\")\n",
    "print(\"Length: \", len(yield_bbb))\n",
    "print(yield_bbb.head(), \"\\n\")\n",
    "\n",
    "\n",
    "# [Daily] U.S. risk free rate (yield to maturity on 10 year U.S. treasury bond)\n",
    "rfr = pd.read_csv(\"RFR.csv\")\n",
    "print(\"Data: rfr\")\n",
    "print(\"Length: \", len(rfr))\n",
    "print(rfr.head(), \"\\n\")\n",
    "\n",
    "# [Daily] U.S. speculative grade corporate bonds option adjusted spread (BB ~ CCC&Lower)\n",
    "spread_bb = pd.read_csv(\"OAS_BB.csv\")\n",
    "print(\"Data: spread_bb\")\n",
    "print(\"Length: \", len(spread_bb))\n",
    "print(spread_bb.head(), \"\\n\")\n",
    "\n",
    "spread_b = pd.read_csv(\"OAS_B.csv\")\n",
    "print(\"Data: spread_b\")\n",
    "print(\"Length: \", len(spread_b))\n",
    "print(spread_b.head(), \"\\n\")\n",
    "\n",
    "spread_ccc = pd.read_csv(\"OAS_CCC&Lower.csv\")\n",
    "print(\"Data: spread_ccc\")\n",
    "print(\"Length: \", len(spread_ccc))\n",
    "print(spread_ccc.head(), \"\\n\")\n",
    "\n",
    "\n",
    "# [Quarterly/ Annual] Debt to market values of equity ratio (measure of leverage)\n",
    "leverage = pd.read_csv(\"Debt_to_Equity.csv\")\n",
    "print(\"Data: leverage\")\n",
    "print(\"Length: \", len(leverage))\n",
    "print(leverage.head(), \"\\n\")\n",
    "\n",
    "# [Quarterely/ Annual] S&P 500 price to book ratio \n",
    "pb = pd.read_csv(\"Price_to_Book.csv\")\n",
    "print(\"Data: pb\")\n",
    "print(\"Length: \", len(pb))\n",
    "print(pb.head(), \"\\n\")"
   ]
  },
  {
   "cell_type": "code",
   "execution_count": 101,
   "metadata": {},
   "outputs": [],
   "source": [
    "# unify date types\n",
    "\n",
    "# change the date format for yield_aa\n",
    "for num in range(len(yield_aa)):\n",
    "    date = str(yield_aa.loc[num][0])\n",
    "    date_object = datetime.strptime(date, '%Y-%m-%d')\n",
    "    new_date = date_object.strftime('%m/%d/%Y')\n",
    "    yield_aa.loc[num][0] = new_date\n",
    "\n",
    "# change the date format for yield_a\n",
    "for num in range(len(yield_a)):\n",
    "    date = str(yield_a.loc[num][0])\n",
    "    date_object = datetime.strptime(date, '%Y-%m-%d')\n",
    "    new_date = date_object.strftime('%m/%d/%Y')\n",
    "    yield_a.loc[num][0] = new_date\n",
    "\n",
    "# change the date format for yield_bbb\n",
    "for num in range(len(yield_bbb)):\n",
    "    date = str(yield_bbb.loc[num][0])\n",
    "    date_object = datetime.strptime(date, '%Y-%m-%d')\n",
    "    new_date = date_object.strftime('%m/%d/%Y')\n",
    "    yield_bbb.loc[num][0] = new_date\n",
    "\n",
    "# change the date format for rfr\n",
    "for num in range(len(rfr)):\n",
    "    date = str(rfr.loc[num][0])\n",
    "    date_object = datetime.strptime(date, '%Y-%m-%d')\n",
    "    new_date = date_object.strftime('%m/%d/%Y')\n",
    "    rfr.loc[num][0] = new_date\n",
    "\n",
    "# change the date format for spread_b\n",
    "for num in range(len(spread_b)):\n",
    "    date = str(spread_b.loc[num][0])\n",
    "    date_object = datetime.strptime(date, '%Y-%m-%d')\n",
    "    new_date = date_object.strftime('%m/%d/%Y')\n",
    "    spread_b.loc[num][0] = new_date\n",
    "\n",
    "# change the date format for spread_ccc\n",
    "for num in range(len(spread_ccc)):\n",
    "    date = str(spread_ccc.loc[num][0])\n",
    "    date_object = datetime.strptime(date, '%Y-%m-%d')\n",
    "    new_date = date_object.strftime('%m/%d/%Y')\n",
    "    spread_ccc.loc[num][0] = new_date"
   ]
  },
  {
   "cell_type": "code",
   "execution_count": 102,
   "metadata": {},
   "outputs": [
    {
     "data": {
      "text/html": [
       "<div>\n",
       "<style scoped>\n",
       "    .dataframe tbody tr th:only-of-type {\n",
       "        vertical-align: middle;\n",
       "    }\n",
       "\n",
       "    .dataframe tbody tr th {\n",
       "        vertical-align: top;\n",
       "    }\n",
       "\n",
       "    .dataframe thead th {\n",
       "        text-align: right;\n",
       "    }\n",
       "</style>\n",
       "<table border=\"1\" class=\"dataframe\">\n",
       "  <thead>\n",
       "    <tr style=\"text-align: right;\">\n",
       "      <th></th>\n",
       "      <th>date</th>\n",
       "      <th>effr</th>\n",
       "      <th>vix</th>\n",
       "      <th>yield_aaa</th>\n",
       "      <th>yield_aa</th>\n",
       "      <th>yield_a</th>\n",
       "      <th>yield_bbb</th>\n",
       "      <th>rfr</th>\n",
       "      <th>spread_bb</th>\n",
       "      <th>spread_b</th>\n",
       "      <th>spread_ccc</th>\n",
       "      <th>LEV</th>\n",
       "      <th>P/B</th>\n",
       "    </tr>\n",
       "  </thead>\n",
       "  <tbody>\n",
       "    <tr>\n",
       "      <td>0</td>\n",
       "      <td>12/31/1999</td>\n",
       "      <td>3.99</td>\n",
       "      <td>24.64</td>\n",
       "      <td>7.29</td>\n",
       "      <td>7.35</td>\n",
       "      <td>7.54</td>\n",
       "      <td>8.10</td>\n",
       "      <td>6.45</td>\n",
       "      <td>2.76</td>\n",
       "      <td>4.52</td>\n",
       "      <td>13.76</td>\n",
       "      <td>28.691938</td>\n",
       "      <td>5.05</td>\n",
       "    </tr>\n",
       "    <tr>\n",
       "      <td>1</td>\n",
       "      <td>10/10/2000</td>\n",
       "      <td>6.57</td>\n",
       "      <td>24.86</td>\n",
       "      <td>6.97</td>\n",
       "      <td>7.26</td>\n",
       "      <td>7.49</td>\n",
       "      <td>8.18</td>\n",
       "      <td>5.80</td>\n",
       "      <td>4.22</td>\n",
       "      <td>7.09</td>\n",
       "      <td>17.74</td>\n",
       "      <td>35.556891</td>\n",
       "      <td>4.49</td>\n",
       "    </tr>\n",
       "    <tr>\n",
       "      <td>2</td>\n",
       "      <td>10/11/2000</td>\n",
       "      <td>6.46</td>\n",
       "      <td>26.57</td>\n",
       "      <td>6.95</td>\n",
       "      <td>7.23</td>\n",
       "      <td>7.48</td>\n",
       "      <td>8.16</td>\n",
       "      <td>5.77</td>\n",
       "      <td>4.33</td>\n",
       "      <td>7.28</td>\n",
       "      <td>17.89</td>\n",
       "      <td>35.556891</td>\n",
       "      <td>4.49</td>\n",
       "    </tr>\n",
       "    <tr>\n",
       "      <td>3</td>\n",
       "      <td>10/12/2000</td>\n",
       "      <td>6.47</td>\n",
       "      <td>30.51</td>\n",
       "      <td>6.88</td>\n",
       "      <td>7.18</td>\n",
       "      <td>7.42</td>\n",
       "      <td>8.15</td>\n",
       "      <td>5.73</td>\n",
       "      <td>4.42</td>\n",
       "      <td>7.38</td>\n",
       "      <td>18.09</td>\n",
       "      <td>35.556891</td>\n",
       "      <td>4.49</td>\n",
       "    </tr>\n",
       "    <tr>\n",
       "      <td>4</td>\n",
       "      <td>10/13/2000</td>\n",
       "      <td>6.46</td>\n",
       "      <td>27.6</td>\n",
       "      <td>6.88</td>\n",
       "      <td>7.18</td>\n",
       "      <td>7.45</td>\n",
       "      <td>8.17</td>\n",
       "      <td>5.73</td>\n",
       "      <td>4.48</td>\n",
       "      <td>7.49</td>\n",
       "      <td>18.25</td>\n",
       "      <td>35.556891</td>\n",
       "      <td>4.49</td>\n",
       "    </tr>\n",
       "  </tbody>\n",
       "</table>\n",
       "</div>"
      ],
      "text/plain": [
       "         date  effr    vix yield_aaa yield_aa yield_a yield_bbb   rfr  \\\n",
       "0  12/31/1999  3.99  24.64      7.29     7.35    7.54      8.10  6.45   \n",
       "1  10/10/2000  6.57  24.86      6.97     7.26    7.49      8.18  5.80   \n",
       "2  10/11/2000  6.46  26.57      6.95     7.23    7.48      8.16  5.77   \n",
       "3  10/12/2000  6.47  30.51      6.88     7.18    7.42      8.15  5.73   \n",
       "4  10/13/2000  6.46   27.6      6.88     7.18    7.45      8.17  5.73   \n",
       "\n",
       "  spread_bb spread_b spread_ccc        LEV   P/B  \n",
       "0      2.76     4.52      13.76  28.691938  5.05  \n",
       "1      4.22     7.09      17.74  35.556891  4.49  \n",
       "2      4.33     7.28      17.89  35.556891  4.49  \n",
       "3      4.42     7.38      18.09  35.556891  4.49  \n",
       "4      4.48     7.49      18.25  35.556891  4.49  "
      ]
     },
     "metadata": {},
     "output_type": "display_data"
    }
   ],
   "source": [
    "# Merge daily data\n",
    "\n",
    "# create a list with all columns\n",
    "daily_to_merge = [effr, vix, yield_aaa, yield_aa, yield_a, yield_bbb, rfr, spread_bb, spread_b, spread_ccc, leverage, pb]\n",
    "\n",
    "# create an empty dictionary\n",
    "daily_merged = {}\n",
    "\n",
    "\n",
    "# merge all columns in daily_to_merge one by one, on date\n",
    "for num in range(len(daily_to_merge)-1):\n",
    "    if num == 0:\n",
    "        daily_merged = pd.merge(daily_to_merge[num], daily_to_merge[num+1], on='DATE')\n",
    "    else:\n",
    "        daily_merged = pd.merge(daily_merged, daily_to_merge[num+1], on=\"DATE\")\n",
    "\n",
    "daily_merged.columns = [\"date\", \"effr\", \"vix\", \"yield_aaa\", \"yield_aa\", \"yield_a\", \"yield_bbb\", \\\n",
    "                        \"rfr\", \"spread_bb\", \"spread_b\", \"spread_ccc\", \"LEV\", \"P/B\"]\n",
    "\n",
    "display(daily_merged.head())"
   ]
  },
  {
   "cell_type": "code",
   "execution_count": 103,
   "metadata": {},
   "outputs": [
    {
     "name": "stdout",
     "output_type": "stream",
     "text": [
      "Check if all columns are float type: \n",
      " date           object\n",
      "effr          float32\n",
      "vix           float32\n",
      "yield_aaa     float32\n",
      "yield_aa      float32\n",
      "yield_a       float32\n",
      "yield_bbb     float32\n",
      "rfr           float32\n",
      "spread_bb     float32\n",
      "spread_b      float32\n",
      "spread_ccc    float32\n",
      "LEV           float32\n",
      "P/B           float32\n",
      "dtype: object \n",
      "\n",
      "Are there any null values left in the columns? \n",
      " date          False\n",
      "effr          False\n",
      "vix           False\n",
      "yield_aaa     False\n",
      "yield_aa      False\n",
      "yield_a       False\n",
      "yield_bbb     False\n",
      "rfr           False\n",
      "spread_bb     False\n",
      "spread_b      False\n",
      "spread_ccc    False\n",
      "LEV           False\n",
      "P/B           False\n",
      "dtype: bool \n",
      "\n"
     ]
    }
   ],
   "source": [
    "# change types to float from string\n",
    "for column in daily_merged:\n",
    "    if column == \"date\":\n",
    "        continue\n",
    "    else:\n",
    "        daily_merged[column] = pd.to_numeric(daily_merged[column], downcast = \"float\", errors = 'coerce')\n",
    "\n",
    "print(\"Check if all columns are float type:\", \"\\n\", daily_merged.dtypes, \"\\n\")\n",
    "\n",
    "# drop rows with NaN\n",
    "daily_merged = daily_merged.dropna(axis=0)\n",
    "\n",
    "# check whether there are any Null values left\n",
    "print(\"Are there any null values left in the columns?\", \"\\n\", daily_merged.isnull().any(), \"\\n\")"
   ]
  },
  {
   "cell_type": "code",
   "execution_count": 104,
   "metadata": {},
   "outputs": [
    {
     "data": {
      "text/html": [
       "<div>\n",
       "<style scoped>\n",
       "    .dataframe tbody tr th:only-of-type {\n",
       "        vertical-align: middle;\n",
       "    }\n",
       "\n",
       "    .dataframe tbody tr th {\n",
       "        vertical-align: top;\n",
       "    }\n",
       "\n",
       "    .dataframe thead th {\n",
       "        text-align: right;\n",
       "    }\n",
       "</style>\n",
       "<table border=\"1\" class=\"dataframe\">\n",
       "  <thead>\n",
       "    <tr style=\"text-align: right;\">\n",
       "      <th></th>\n",
       "      <th>date</th>\n",
       "      <th>effr</th>\n",
       "      <th>vix</th>\n",
       "      <th>yield_aaa</th>\n",
       "      <th>yield_aa</th>\n",
       "      <th>yield_a</th>\n",
       "      <th>yield_bbb</th>\n",
       "      <th>rfr</th>\n",
       "      <th>spread_bb</th>\n",
       "      <th>spread_b</th>\n",
       "      <th>spread_ccc</th>\n",
       "      <th>LEV</th>\n",
       "      <th>P/B</th>\n",
       "      <th>yield_bb</th>\n",
       "      <th>yield_b</th>\n",
       "      <th>yield_ccc</th>\n",
       "    </tr>\n",
       "  </thead>\n",
       "  <tbody>\n",
       "    <tr>\n",
       "      <td>0</td>\n",
       "      <td>12/31/1999</td>\n",
       "      <td>3.99</td>\n",
       "      <td>24.639999</td>\n",
       "      <td>7.29</td>\n",
       "      <td>7.35</td>\n",
       "      <td>7.54</td>\n",
       "      <td>8.10</td>\n",
       "      <td>6.45</td>\n",
       "      <td>2.76</td>\n",
       "      <td>4.52</td>\n",
       "      <td>13.760000</td>\n",
       "      <td>28.691938</td>\n",
       "      <td>5.05</td>\n",
       "      <td>9.21</td>\n",
       "      <td>10.969999</td>\n",
       "      <td>20.209999</td>\n",
       "    </tr>\n",
       "    <tr>\n",
       "      <td>1</td>\n",
       "      <td>10/10/2000</td>\n",
       "      <td>6.57</td>\n",
       "      <td>24.860001</td>\n",
       "      <td>6.97</td>\n",
       "      <td>7.26</td>\n",
       "      <td>7.49</td>\n",
       "      <td>8.18</td>\n",
       "      <td>5.80</td>\n",
       "      <td>4.22</td>\n",
       "      <td>7.09</td>\n",
       "      <td>17.740000</td>\n",
       "      <td>35.556892</td>\n",
       "      <td>4.49</td>\n",
       "      <td>10.02</td>\n",
       "      <td>12.890000</td>\n",
       "      <td>23.540001</td>\n",
       "    </tr>\n",
       "    <tr>\n",
       "      <td>2</td>\n",
       "      <td>10/11/2000</td>\n",
       "      <td>6.46</td>\n",
       "      <td>26.570000</td>\n",
       "      <td>6.95</td>\n",
       "      <td>7.23</td>\n",
       "      <td>7.48</td>\n",
       "      <td>8.16</td>\n",
       "      <td>5.77</td>\n",
       "      <td>4.33</td>\n",
       "      <td>7.28</td>\n",
       "      <td>17.889999</td>\n",
       "      <td>35.556892</td>\n",
       "      <td>4.49</td>\n",
       "      <td>10.10</td>\n",
       "      <td>13.050000</td>\n",
       "      <td>23.660000</td>\n",
       "    </tr>\n",
       "    <tr>\n",
       "      <td>3</td>\n",
       "      <td>10/12/2000</td>\n",
       "      <td>6.47</td>\n",
       "      <td>30.510000</td>\n",
       "      <td>6.88</td>\n",
       "      <td>7.18</td>\n",
       "      <td>7.42</td>\n",
       "      <td>8.15</td>\n",
       "      <td>5.73</td>\n",
       "      <td>4.42</td>\n",
       "      <td>7.38</td>\n",
       "      <td>18.090000</td>\n",
       "      <td>35.556892</td>\n",
       "      <td>4.49</td>\n",
       "      <td>10.15</td>\n",
       "      <td>13.110001</td>\n",
       "      <td>23.820000</td>\n",
       "    </tr>\n",
       "    <tr>\n",
       "      <td>4</td>\n",
       "      <td>10/13/2000</td>\n",
       "      <td>6.46</td>\n",
       "      <td>27.600000</td>\n",
       "      <td>6.88</td>\n",
       "      <td>7.18</td>\n",
       "      <td>7.45</td>\n",
       "      <td>8.17</td>\n",
       "      <td>5.73</td>\n",
       "      <td>4.48</td>\n",
       "      <td>7.49</td>\n",
       "      <td>18.250000</td>\n",
       "      <td>35.556892</td>\n",
       "      <td>4.49</td>\n",
       "      <td>10.21</td>\n",
       "      <td>13.219999</td>\n",
       "      <td>23.980000</td>\n",
       "    </tr>\n",
       "  </tbody>\n",
       "</table>\n",
       "</div>"
      ],
      "text/plain": [
       "         date  effr        vix  yield_aaa  yield_aa  yield_a  yield_bbb   rfr  \\\n",
       "0  12/31/1999  3.99  24.639999       7.29      7.35     7.54       8.10  6.45   \n",
       "1  10/10/2000  6.57  24.860001       6.97      7.26     7.49       8.18  5.80   \n",
       "2  10/11/2000  6.46  26.570000       6.95      7.23     7.48       8.16  5.77   \n",
       "3  10/12/2000  6.47  30.510000       6.88      7.18     7.42       8.15  5.73   \n",
       "4  10/13/2000  6.46  27.600000       6.88      7.18     7.45       8.17  5.73   \n",
       "\n",
       "   spread_bb  spread_b  spread_ccc        LEV   P/B  yield_bb    yield_b  \\\n",
       "0       2.76      4.52   13.760000  28.691938  5.05      9.21  10.969999   \n",
       "1       4.22      7.09   17.740000  35.556892  4.49     10.02  12.890000   \n",
       "2       4.33      7.28   17.889999  35.556892  4.49     10.10  13.050000   \n",
       "3       4.42      7.38   18.090000  35.556892  4.49     10.15  13.110001   \n",
       "4       4.48      7.49   18.250000  35.556892  4.49     10.21  13.219999   \n",
       "\n",
       "   yield_ccc  \n",
       "0  20.209999  \n",
       "1  23.540001  \n",
       "2  23.660000  \n",
       "3  23.820000  \n",
       "4  23.980000  "
      ]
     },
     "metadata": {},
     "output_type": "display_data"
    }
   ],
   "source": [
    "# calculate yields for bb, b, ccc\n",
    "daily_merged[\"yield_bb\"] = daily_merged[\"spread_bb\"] + daily_merged[\"rfr\"]\n",
    "daily_merged[\"yield_b\"] = daily_merged[\"spread_b\"] + daily_merged[\"rfr\"]\n",
    "daily_merged[\"yield_ccc\"] = daily_merged[\"spread_ccc\"] + daily_merged[\"rfr\"]\n",
    "\n",
    "# check whether the new columns have been created\n",
    "display(daily_merged.head())"
   ]
  },
  {
   "cell_type": "markdown",
   "metadata": {},
   "source": [
    "# III. Data Description #"
   ]
  },
  {
   "cell_type": "markdown",
   "metadata": {},
   "source": [
    "**What are the observations (rows) and the attributes (columns)?**\n",
    "\n",
    "- The index column is date, and other columns consist of predictor variables: effective federal funds rate (effr), volatility index (vix), and debt to equity ratio (debt_to_equity), which represents the level of corporate debt at a given time. Price to book column will be used to normalize the debt to equity column - details on why this might be necessary will be explained in more depth later. The other columns, yield_aaa ~ yield_bbb and spread_bb ~ spread_ccc&lower represent the expected yield (the rate of return one can expect by investing in a debt investment and holding it to maturity) for different corporate bond ratings: AAA, AA, A, BBB are Investment Grade, and BB, B, CCC & lower are speculative grade. Lastly, the column header DGS10 represent \n",
    "\n",
    "- Each row represents the given level of yield on debt investments of different ratings, and other financial metrics that convey information on investor confidence, and government's eagerness to circulate additional cash throughout the U.S. economy. \n"
   ]
  },
  {
   "cell_type": "markdown",
   "metadata": {},
   "source": [
    "**Why was this dataset created?**\n",
    "\n",
    "- These data were provided by FRED and S&P to provide investors with information on the state of U.S.' economy and investment landscape. "
   ]
  },
  {
   "cell_type": "markdown",
   "metadata": {},
   "source": [
    "**Who funded the creation of the dataset?**\n",
    "\n",
    "- FRED is funded by the U.S. government, and S&P funds itself as a for-profit corporate."
   ]
  },
  {
   "cell_type": "markdown",
   "metadata": {},
   "source": [
    "**What processes might have influenced what data was observed and recorded and what was not?**\n",
    "\n",
    "- The yield/ price of individual investment asset class that could be easily tracked every day, such as the yield on U.S. AAA rated corporate debt, has been observed daily. Days when these data were not collected may include holidays, when markets around the world were closed.\n",
    "- Quarterely data, such as Debt to Equity and Price to Book ratios were probably not recorded on daily basis because information such as amount of debt and book value of equity are only updated quarterely, when public companies file their financial information to investors in compliance with the Securities and Exchange Commission."
   ]
  },
  {
   "cell_type": "markdown",
   "metadata": {},
   "source": [
    "**What preprocessing was done, and how did the data come to be in the form that you are using?**\n",
    "\n",
    "- All data excluding Price to Book were downloaded from FRED in csv format and required no pre-processing outside of Jupyter.\n",
    "- Price to Book was copied and pasted into an excel sheet from S&P's website. Then, I changed the column header for date from \"date\" to \"DATE\" in order to standardize it to other date column headers from FRED.\n",
    "- Because leverage and P/B data were spotty, and only available on quarterly/annual basis, I created new datasets in csv files that contained daily datasets. For example, if the first two rows contained the following data [1/31/1999: 80, 4/30/1999: 100], I filled the missing space from 2/1/1999 to 4/29/1999 with 80. "
   ]
  },
  {
   "cell_type": "markdown",
   "metadata": {},
   "source": [
    "**If people are involved, were they aware of the data collection and if so, what purpose did they expect the data to be used for?**\n",
    "\n",
    "- N/A"
   ]
  },
  {
   "cell_type": "markdown",
   "metadata": {},
   "source": [
    "**Where can your raw source data be found, if applicable? Provide a link to the raw data (hosted in a Cornell Google Drive or Cornell Box).** \n",
    "\n",
    "Source: \n",
    "- *Fred: https://fred.stlouisfed.org/*\n",
    "- *Standard & Poor: https://www.multpl.com/s-p-500-price-to-book/table/by-quarter*"
   ]
  },
  {
   "cell_type": "markdown",
   "metadata": {},
   "source": [
    "# IV. Data Analysis #"
   ]
  },
  {
   "cell_type": "markdown",
   "metadata": {},
   "source": [
    "By creating a linear model, effr as the predictor variable and each debt with different rating as the predicted variable, I try to determine whether the level of effr could be used to predict how yields on the debt will change. Below output of mean and standard deviation of the yields for each debt rating shows that ccc & lower rated debt seem to have much higher yields than other ratings. As ratings become lower, both the mean yield on the debt instruments and the variability of yields on the debt increase. "
   ]
  },
  {
   "cell_type": "code",
   "execution_count": 105,
   "metadata": {},
   "outputs": [],
   "source": [
    "# create a function that outputs slope, intercept, correlation correlation, spearman correlation, and r^2  in a list\n",
    "\n",
    "def calc_sicpr(array1, array2):\n",
    "    x = np.array(array1).reshape(-1, 1)\n",
    "    y = np.array(array2).reshape(-1, 1)\n",
    "    model = LinearRegression()\n",
    "    model.fit(x, y)\n",
    "    slope = float(model.coef_)\n",
    "    intercept = float(model.intercept_)\n",
    "    cor = np.corrcoef(array1, array2)[0][1]\n",
    "    rank_cor = float(spearmanr(x, y).correlation)\n",
    "    r2 = float(model.score(x,y))\n",
    "    sicpr_list = [slope, intercept, cor, rank_cor, r2]\n",
    "    return(sicpr_list)"
   ]
  },
  {
   "cell_type": "code",
   "execution_count": 106,
   "metadata": {},
   "outputs": [
    {
     "name": "stdout",
     "output_type": "stream",
     "text": [
      "Mean for each yield\n",
      "yield_aaa: 3.82\n",
      "yield_aa: 3.90\n",
      "yield_a: 4.41\n",
      "yield_bbb: 5.24\n",
      "yield_bb: 7.41\n",
      "yield_b: 9.37\n",
      "yield_ccc: 15.81\n",
      "\n",
      "\n",
      "Standard deviation for each yield\n",
      "yield_aaa: 1.39\n",
      "yield_aa: 1.49\n",
      "yield_a: 1.65\n",
      "yield_bbb: 1.69\n",
      "yield_bb: 2.65\n",
      "yield_b: 3.66\n",
      "yield_ccc: 6.99\n"
     ]
    },
    {
     "data": {
      "image/png": "[encoded data removed]",
      "text/plain": [
       "<Figure size 576x576 with 1 Axes>"
      ]
     },
     "metadata": {
      "needs_background": "light"
     },
     "output_type": "display_data"
    }
   ],
   "source": [
    "# create a plot_list array containing the column names for each yield\n",
    "plot_list = [\"yield_aaa\", \"yield_aa\", \"yield_a\", \"yield_bbb\", \"yield_bb\", \"yield_b\", \"yield_ccc\"]\n",
    "\n",
    "# print mean for each yield\n",
    "print(\"Mean for each yield\")\n",
    "for debt_yield in plot_list:\n",
    "    print(debt_yield +\": {:.2f}\".format(daily_merged[debt_yield].mean()))\n",
    "\n",
    "print(\"\\n\")\n",
    "\n",
    "# print standard deviaqtion for each yield\n",
    "print(\"Standard deviation for each yield\")\n",
    "for debt_yield in plot_list:\n",
    "    print(debt_yield +\": {:.2f}\".format(daily_merged[debt_yield].std()))\n",
    "    \n",
    "# plot mean yield for each rating debt\n",
    "avg_yield = []\n",
    "\n",
    "# fill avg_yield with mean yield\n",
    "for debt_yield in plot_list:\n",
    "    avg_yield.append(daily_merged[debt_yield].mean())\n",
    "\n",
    "# plot the average yields\n",
    "plt.figure(figsize=(8,8))\n",
    "plt.scatter(plot_list, avg_yield)\n",
    "plt.xlabel(\"Debt Rating\")\n",
    "plt.ylabel(\"Average Yield (%)\")\n",
    "plt.title(\"Rating vs. Average Yield\")\n",
    "plt.ylim(ymin=0, ymax=20)\n",
    "plt.show()"
   ]
  },
  {
   "cell_type": "markdown",
   "metadata": {},
   "source": [
    "## Part 1: EFFR vs. Yield ##"
   ]
  },
  {
   "cell_type": "markdown",
   "metadata": {},
   "source": [
    "The correlations between the level of effr and yield for each debt rating shows that there is generally a weak positive correlation between effr and yields on debt. This observation is further supplanted by the scatter plot below. For instance, the yields on ccc & lower debt seem to be higher when the effr is the lowest and highest."
   ]
  },
  {
   "cell_type": "code",
   "execution_count": 107,
   "metadata": {
    "scrolled": false
   },
   "outputs": [
    {
     "data": {
      "image/png": "[encoded data removed]",
      "text/plain": [
       "<Figure size 576x576 with 1 Axes>"
      ]
     },
     "metadata": {
      "needs_background": "light"
     },
     "output_type": "display_data"
    },
    {
     "name": "stdout",
     "output_type": "stream",
     "text": [
      "Yield: yield_aaa\n",
      "Slope: 0.54\n",
      "Intercept: 2.89\n",
      "Correlation: 0.74\n",
      "Spearman Correlation: 0.72\n",
      "r^2 Score: 0.55 \n",
      "\n",
      "Yield: yield_aa\n",
      "Slope: 0.54\n",
      "Intercept: 2.97\n",
      "Correlation: 0.69\n",
      "Spearman Correlation: 0.63\n",
      "r^2 Score: 0.47 \n",
      "\n",
      "Yield: yield_a\n",
      "Slope: 0.48\n",
      "Intercept: 3.58\n",
      "Correlation: 0.55\n",
      "Spearman Correlation: 0.58\n",
      "r^2 Score: 0.30 \n",
      "\n",
      "Yield: yield_bbb\n",
      "Slope: 0.41\n",
      "Intercept: 4.53\n",
      "Correlation: 0.46\n",
      "Spearman Correlation: 0.49\n",
      "r^2 Score: 0.21 \n",
      "\n",
      "Yield: yield_bb\n",
      "Slope: 0.18\n",
      "Intercept: 7.10\n",
      "Correlation: 0.13\n",
      "Spearman Correlation: 0.19\n",
      "r^2 Score: 0.02 \n",
      "\n",
      "Yield: yield_b\n",
      "Slope: 0.20\n",
      "Intercept: 9.04\n",
      "Correlation: 0.10\n",
      "Spearman Correlation: 0.11\n",
      "r^2 Score: 0.01 \n",
      "\n",
      "Yield: yield_ccc\n",
      "Slope: 0.29\n",
      "Intercept: 15.31\n",
      "Correlation: 0.08\n",
      "Spearman Correlation: -0.04\n",
      "r^2 Score: 0.01 \n",
      "\n"
     ]
    }
   ],
   "source": [
    "# create a numpy effr array\n",
    "effr = np.array(daily_merged[\"effr\"])\n",
    "\n",
    "# display yields on one scatterplot\n",
    "plt.figure(figsize=(8,8))\n",
    "for num in range(len(plot_list)):\n",
    "    plt.scatter(effr, daily_merged[plot_list[num]], label=plot_list[num])\n",
    "    plt.xlabel(\"EFFR\")\n",
    "    plt.ylabel(\"Yield (%)\")\n",
    "    plt.title(\"EFFR vs. Yield\")\n",
    "    plt.xlim(xmin=-2, xmax=8)\n",
    "    plt.ylim(ymin=0, ymax=50)\n",
    "    plt.legend()\n",
    "plt.show()\n",
    "\n",
    "# run sicpr for each yield\n",
    "for num in range(len(plot_list)):\n",
    "    print(\"Yield: \"+plot_list[num])\n",
    "    sicpr = calc_sicpr(effr, np.array(daily_merged[plot_list[num]]))\n",
    "    print(\"Slope:\", \"{:.2f}\".format(sicpr[0]))\n",
    "    print(\"Intercept:\", \"{:.2f}\".format(sicpr[1]))\n",
    "    print(\"Correlation:\", \"{:.2f}\".format(sicpr[2]))\n",
    "    print(\"Spearman Correlation:\", \"{:.2f}\".format(sicpr[3]))\n",
    "    print(\"r^2 Score:\", \"{:.2f}\".format(sicpr[4]), \"\\n\")"
   ]
  },
  {
   "cell_type": "markdown",
   "metadata": {},
   "source": [
    "## Part 2: VIX vs. Yield ##"
   ]
  },
  {
   "cell_type": "markdown",
   "metadata": {},
   "source": [
    "The linear regression output show that positive linear correlation between VIX and yield increases as debt rating decreases. What this observation implies is that investors can look at the level of VIX to predict where the yield on speculative grade (bb, b, ccc & lower) could be. It is interesting to note that the correlation for ccc & lower debt is lower than that of b rated debt. This observation might stem from the fact that ccc & lower includes debt that are rated cc, c, and d in addition to ccc. If the yield for ccc & lower was instead segmented into each rating ccc, cc, c, and d, the below scatter plot could have shown more steady increase in linear relationship as ratings decreased. What this means in real life is that during times of additional market volatility and uncertainty, investors are not too worried about receiving repayments from investment grade debt. However, investors who bought speculative grade debt may be more worried that the issuers of the debt might default on their repayment obligation."
   ]
  },
  {
   "cell_type": "code",
   "execution_count": 108,
   "metadata": {
    "scrolled": false
   },
   "outputs": [
    {
     "data": {
      "image/png": "[encoded data removed]",
      "text/plain": [
       "<Figure size 576x576 with 1 Axes>"
      ]
     },
     "metadata": {
      "needs_background": "light"
     },
     "output_type": "display_data"
    },
    {
     "name": "stdout",
     "output_type": "stream",
     "text": [
      "Yield: yield_aaa\n",
      "Slope: 0.05\n",
      "Intercept: 2.69\n",
      "Correlation: 0.44\n",
      "Spearman Correlation: 0.21\n",
      "r^2 Score: 0.19 \n",
      "\n",
      "Yield: yield_aa\n",
      "Slope: 0.08\n",
      "Intercept: 2.34\n",
      "Correlation: 0.57\n",
      "Spearman Correlation: 0.40\n",
      "r^2 Score: 0.32 \n",
      "\n",
      "Yield: yield_a\n",
      "Slope: 0.10\n",
      "Intercept: 2.32\n",
      "Correlation: 0.69\n",
      "Spearman Correlation: 0.46\n",
      "r^2 Score: 0.47 \n",
      "\n",
      "Yield: yield_bbb\n",
      "Slope: 0.11\n",
      "Intercept: 2.96\n",
      "Correlation: 0.73\n",
      "Spearman Correlation: 0.55\n",
      "r^2 Score: 0.53 \n",
      "\n",
      "Yield: yield_bb\n",
      "Slope: 0.20\n",
      "Intercept: 3.17\n",
      "Correlation: 0.87\n",
      "Spearman Correlation: 0.75\n",
      "r^2 Score: 0.76 \n",
      "\n",
      "Yield: yield_b\n",
      "Slope: 0.29\n",
      "Intercept: 3.31\n",
      "Correlation: 0.90\n",
      "Spearman Correlation: 0.82\n",
      "r^2 Score: 0.81 \n",
      "\n",
      "Yield: yield_ccc\n",
      "Slope: 0.49\n",
      "Intercept: 5.63\n",
      "Correlation: 0.79\n",
      "Spearman Correlation: 0.76\n",
      "r^2 Score: 0.63 \n",
      "\n"
     ]
    }
   ],
   "source": [
    "# create a numpy vix array\n",
    "vix = np.array(daily_merged[\"vix\"])\n",
    "\n",
    "# display yields on one scatterplot\n",
    "plt.figure(figsize=(8,8))\n",
    "for num in range(len(plot_list)):\n",
    "    plt.scatter(vix, daily_merged[plot_list[num]], label=plot_list[num])\n",
    "    plt.xlabel(\"VIX\")\n",
    "    plt.ylabel(\"Yield (%)\")\n",
    "    plt.title(\"VIX vs. Yield\")\n",
    "    plt.xlim(xmin=0, xmax=100)\n",
    "    plt.ylim(ymin=0, ymax=50)\n",
    "    plt.legend()\n",
    "plt.show()\n",
    "\n",
    "# run sicpr for each yield\n",
    "for num in range(len(plot_list)):\n",
    "    print(\"Yield: \"+plot_list[num])\n",
    "    sicpr = calc_sicpr(vix, np.array(daily_merged[plot_list[num]]))\n",
    "    print(\"Slope:\", \"{:.2f}\".format(sicpr[0]))\n",
    "    print(\"Intercept:\", \"{:.2f}\".format(sicpr[1]))\n",
    "    print(\"Correlation:\", \"{:.2f}\".format(sicpr[2]))\n",
    "    print(\"Spearman Correlation:\", \"{:.2f}\".format(sicpr[3]))\n",
    "    print(\"r^2 Score:\", \"{:.2f}\".format(sicpr[4]), \"\\n\")"
   ]
  },
  {
   "cell_type": "markdown",
   "metadata": {},
   "source": [
    "## Part 3: Leverage (Debt / Book Value of Equity) vs. Yield ##"
   ]
  },
  {
   "cell_type": "markdown",
   "metadata": {},
   "source": [
    "Interestingly, in sharp contrast to Part 2, positive linear relationship between leverage and yield was lower for speculative grade debt. This trend might stem from the fact that in a financial market with high leverage, investors are likely to over sell their positions in speculative debt, leading to an exponential rise in speculative debt yield. Nevertheless, we can expect public debt to trade at greater discounts, some even at distressed levels, when there is more leverage (debt) in the financial system. "
   ]
  },
  {
   "cell_type": "code",
   "execution_count": 109,
   "metadata": {
    "scrolled": false
   },
   "outputs": [
    {
     "data": {
      "image/png": "[encoded data removed]",
      "text/plain": [
       "<Figure size 576x576 with 1 Axes>"
      ]
     },
     "metadata": {
      "needs_background": "light"
     },
     "output_type": "display_data"
    },
    {
     "name": "stdout",
     "output_type": "stream",
     "text": [
      "Yield: yield_aaa\n",
      "Slope: 0.06\n",
      "Intercept: -2.09\n",
      "Correlation: 0.85\n",
      "Spearman Correlation: 0.84\n",
      "r^2 Score: 0.71 \n",
      "\n",
      "Yield: yield_aa\n",
      "Slope: 0.06\n",
      "Intercept: -2.23\n",
      "Correlation: 0.82\n",
      "Spearman Correlation: 0.79\n",
      "r^2 Score: 0.67 \n",
      "\n",
      "Yield: yield_a\n",
      "Slope: 0.06\n",
      "Intercept: -2.30\n",
      "Correlation: 0.80\n",
      "Spearman Correlation: 0.79\n",
      "r^2 Score: 0.65 \n",
      "\n",
      "Yield: yield_bbb\n",
      "Slope: 0.07\n",
      "Intercept: -1.72\n",
      "Correlation: 0.82\n",
      "Spearman Correlation: 0.78\n",
      "r^2 Score: 0.67 \n",
      "\n",
      "Yield: yield_bb\n",
      "Slope: 0.08\n",
      "Intercept: -1.33\n",
      "Correlation: 0.65\n",
      "Spearman Correlation: 0.59\n",
      "r^2 Score: 0.43 \n",
      "\n",
      "Yield: yield_b\n",
      "Slope: 0.12\n",
      "Intercept: -3.27\n",
      "Correlation: 0.69\n",
      "Spearman Correlation: 0.56\n",
      "r^2 Score: 0.47 \n",
      "\n",
      "Yield: yield_ccc\n",
      "Slope: 0.23\n",
      "Intercept: -8.92\n",
      "Correlation: 0.70\n",
      "Spearman Correlation: 0.47\n",
      "r^2 Score: 0.49 \n",
      "\n"
     ]
    }
   ],
   "source": [
    "# create a numpy leverage array\n",
    "leverage = np.array(daily_merged[\"LEV\"]) * np.array(daily_merged[\"P/B\"])\n",
    "\n",
    "# display yields on one scatterplot\n",
    "plt.figure(figsize=(8,8))\n",
    "for num in range(len(plot_list)):\n",
    "    plt.scatter(leverage, daily_merged[plot_list[num]], label=plot_list[num])\n",
    "    plt.xlabel(\"Leverage (Debt/Book Value of Equity) (%)\")\n",
    "    plt.ylabel(\"Yield (%)\")\n",
    "    plt.title(\"Leverage (Debt/Book Value of Equity) vs. Yield\")\n",
    "    plt.xlim(xmin=70)\n",
    "    plt.ylim(ymin=0, ymax=50)\n",
    "    plt.legend()\n",
    "plt.show()\n",
    "\n",
    "# run sicpr for each yield\n",
    "for num in range(len(plot_list)):\n",
    "    print(\"Yield: \"+plot_list[num])\n",
    "    sicpr = calc_sicpr(leverage, np.array(daily_merged[plot_list[num]]))\n",
    "    print(\"Slope:\", \"{:.2f}\".format(sicpr[0]))\n",
    "    print(\"Intercept:\", \"{:.2f}\".format(sicpr[1]))\n",
    "    print(\"Correlation:\", \"{:.2f}\".format(sicpr[2]))\n",
    "    print(\"Spearman Correlation:\", \"{:.2f}\".format(sicpr[3]))\n",
    "    print(\"r^2 Score:\", \"{:.2f}\".format(sicpr[4]), \"\\n\")"
   ]
  },
  {
   "cell_type": "markdown",
   "metadata": {},
   "source": [
    "# V. Evaluation of Significance #"
   ]
  },
  {
   "cell_type": "markdown",
   "metadata": {},
   "source": [
    "**Hypothesis**\n",
    "\n",
    "- From looking at the observations for vix and leverage, I hypothesized that the rate at which yield changes for ccc & lower debt in relations to increase in vix and leverage is positive and strong. This rate of change is measured by the slopes of the linear regressions: 0.49 for vix and 0.23 for leverage. I chose to make hypothesis only for ccc & lower since this area of the speculative market is generally regarded as being the most volatile and risky in the debt market.  "
   ]
  },
  {
   "cell_type": "code",
   "execution_count": 110,
   "metadata": {},
   "outputs": [],
   "source": [
    "def permuted_y():\n",
    "    return np.random.permutation(daily_merged[\"yield_ccc\"].copy())"
   ]
  },
  {
   "cell_type": "code",
   "execution_count": 111,
   "metadata": {},
   "outputs": [
    {
     "data": {
      "image/png": "[encoded data removed]",
      "text/plain": [
       "<Figure size 576x576 with 1 Axes>"
      ]
     },
     "metadata": {
      "needs_background": "light"
     },
     "output_type": "display_data"
    }
   ],
   "source": [
    "# calculate 1000 new slopes using permuted yield_ccc\n",
    "permuted_slope_vix = np.zeros(1000)\n",
    "\n",
    "for x in range(len(permuted_slope)):\n",
    "    permuted_slope_vix[x] = LinearRegression().fit(daily_merged[[\"vix\"]], permuted_y().reshape(-1,1)).coef_[0][0]\n",
    "    \n",
    "# plot histogram for permuted y\n",
    "plt.figure(figsize=(8,8))\n",
    "plt.hist(permuted_slope_vix, bins = 30)\n",
    "plt.title(\"1000 Slopes for VIX vs. Yield CCC & Lower\")\n",
    "plt.xlabel(\"Slope\")\n",
    "plt.ylabel(\"Frequency\")\n",
    "plt.show()"
   ]
  },
  {
   "cell_type": "code",
   "execution_count": 112,
   "metadata": {},
   "outputs": [
    {
     "data": {
      "image/png": "[encoded data removed]",
      "text/plain": [
       "<Figure size 576x576 with 1 Axes>"
      ]
     },
     "metadata": {
      "needs_background": "light"
     },
     "output_type": "display_data"
    }
   ],
   "source": [
    "# calculate 1000 new slopes using permuted yield_ccc\n",
    "permuted_slope_lev = np.zeros(1000)\n",
    "\n",
    "for x in range(len(permuted_slope)):\n",
    "    permuted_slope_lev[x] = LinearRegression().fit(daily_merged[[\"LEV\"]], permuted_y().reshape(-1,1)).coef_[0][0]\n",
    "    \n",
    "# plot histogram for permuted y\n",
    "plt.figure(figsize=(8,8))\n",
    "plt.hist(permuted_slope_lev, bins = 30)\n",
    "plt.title(\"1000 Slopes for LEV vs. Yield CCC & Lower\")\n",
    "plt.xlabel(\"Slope\")\n",
    "plt.ylabel(\"Frequency\")\n",
    "plt.show()"
   ]
  },
  {
   "cell_type": "markdown",
   "metadata": {},
   "source": [
    "**Evaluation of Significance**\n",
    "\n",
    "- Above histogram shows that slope of 0.49 for the linear regression of vix and yield_ccc is very unlikely to be from a random chance. When we look at the histogram for 1,000 permuted yield_ccc's, we can see that the slopes are approximately within the range of -0.06 and 0.07, and there are acutally no circumstances where the slope is anywhere near 0.49. Therefore we can assume that the slope of 0.49 from vix vs. yield_ccc dataset is statistically significant.\n",
    "- Similarly, the histogram for leverage and yield_ccc show that the actual slope of 0.23 is statistically significant. The slopes of 1,000 permuted yield_ccc's in relation to leverage are within the range of -0.1 and 0.1. Nowhere can be found a slope near 0.23.  "
   ]
  },
  {
   "cell_type": "markdown",
   "metadata": {},
   "source": [
    "# VI. Conclusion #"
   ]
  },
  {
   "cell_type": "markdown",
   "metadata": {},
   "source": [
    "**Effective Federal Funds Rate & Yield**\n",
    "\n",
    "- As displayed in the Data Analysis section, the level of effective federal funds rate does not seem to have strong linear relationship with the level of price (higher yield means lower price). What the results in the Data Analysis section implies is that regardless of whether the federal funds rate is low or high at a given date, there are opportunities to find attractive debt investments."
   ]
  },
  {
   "cell_type": "markdown",
   "metadata": {},
   "source": [
    "**CBOE Volatility Index & Yield**\n",
    "\n",
    "- The results from VIX vs. Yield section reveal that for speculative grade debt investments (bb, b, ccc rated debt), a higher vix at a given moment could serve to remind debt investors that there are a lot of speculative grade debt that are trading at bargain prices. Of course, when investors shop for these bargain deals, they should acknowledge the fact that the low prices explicitly imply higher likelihoods of the debt issuers defaulting on their repayment obligations, and their investments could become worthless. The speculative debt (bb, b, ccc) had strong linear relationships with vix, as displayed by their correlation and spearman correlation that were all north of 0.75. The scatterplot shows that there were high concentration of data where vix was south of 40. What this implies is that markets are typically not too volatile. It is also very interesting to note that the slope of the linear model for bb, b, ccc rated debt dramatically increases as vix increases (0.20, 0.29, 0.49) in a stark contrast to the investment grade debt rated aaa, aa, a, bbb (0.05, 0.08, 0.10, 0.11). What these metrics imply is that in volatile markets, which usually result from investors’ fear stemming from uncertainty, investors are much more likely to sell, out of fear, speculative grade debt investments than they would with investment grade debt investments. From an investor’s point of view, a wide-spread sell off resulting from fear and volatility in the markets could be understood as inefficiencies and irrationalities in pricing of these investment opportunities. With enough due diligence on these highly discounted investments, investors could find real bargains. ViX peaked at around 80 on March 16, 2020 and as of May 16, 2020 sits around 32."
   ]
  },
  {
   "cell_type": "markdown",
   "metadata": {},
   "source": [
    "**Leverage (Debt/Book Value of Equity) & Yield**\n",
    "\n",
    "- The results for Leverage vs. Yield section reveals that when there is a lot of leverage in the financial system (the amount of debt companies have taken on in relation to the value of their book equity), investors are more likely to be able to find corporate debt that are trading at discounts. Interestingly, correlations between the amount of leverage and the yield on investment grade debt were much stronger than the correlation between the amount of leverage and the yield on speculative grade debt. A possible interpretation of this contrast is that given a certain amount of leverage in the financial system, investors are much more likely to sell off their speculative grade debt investments out of fear. The less linear relationship observed for speculative grade debt investments imply that when the level of leverage in the financial system is high, investors are much more likely to find mispriced debt investment opportunities in the speculative market with debt rated bb, b, ccc."
   ]
  },
  {
   "cell_type": "markdown",
   "metadata": {},
   "source": [
    "# VII. Source Code #"
   ]
  },
  {
   "cell_type": "markdown",
   "metadata": {},
   "source": [
    "**GIT Hub Repository**\n",
    "- https://github.com/dwc244/INFO2950_FinalProject_DanChung"
   ]
  },
  {
   "cell_type": "markdown",
   "metadata": {},
   "source": [
    "# VIII. Acknowledgements #"
   ]
  },
  {
   "cell_type": "markdown",
   "metadata": {},
   "source": [
    "I thank my project sponsor Alexandra Champagne for reviewing my work and providing me with feedback via Zoom during finals week. Also, the inspiration for this project came from the impact of COVID-19 on our real economy and the debt markets. At every moment of financial market uncertainty resulting from special situations, there are people working in the front lines to mitigate the impact of negative disruption on our real economcy and the financial markets. A study like this wouldn't have been possible without the work of monetary and fiscal policy makers, and the doctors today who are working to restore stability and health to our world."
   ]
  }
 ],
 "metadata": {
  "kernelspec": {
   "display_name": "Python 3",
   "language": "python",
   "name": "python3"
  },
  "language_info": {
   "codemirror_mode": {
    "name": "ipython",
    "version": 3
   },
   "file_extension": ".py",
   "mimetype": "text/x-python",
   "name": "python",
   "nbconvert_exporter": "python",
   "pygments_lexer": "ipython3",
   "version": "3.7.4"
  }
 },
 "nbformat": 4,
 "nbformat_minor": 2
}
