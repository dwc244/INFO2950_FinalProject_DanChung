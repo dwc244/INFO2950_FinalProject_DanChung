{
 "cells": [
  {
   "cell_type": "markdown",
   "metadata": {},
   "source": [
    "## Introduction##"
   ]
  },
  {
   "cell_type": "markdown",
   "metadata": {},
   "source": [
    "**What is the context of the work?**\n",
    "- Since COVID-19 has started spreading in the U.S., our country's economic activity practically stopped - what this means is that corporates in industries such as travel & leisure, hospitality, brick & mortar retail, entertainment, manufacturing, natural resources basically all lost their main sources of revenue. Companies, much like we take on mortgages, take on debt to finance the growth of their businesses - as of 2019, the size of U.S. corporate public debt market passed 9 trillion dollars, and U.S. corporate private debt market more than 1 trillion dollars. Why would people lend this much money to companies? To make investment returns, which is typically represented as the \"yield\" on the debt investments. How do companies pay these debt back? Through generating cash flows Unfortunately right now, the companies mentioned in the above industries are not generating revenue, hence no cash flow. As you might have started to realize, the value of debt investments are highly dependent on the likelihood of companies repaying their debt, and during economic contractions and inactivity, the price tags on these debt investments fall, leading the yield on the debt investments to rise. \n",
    "\n",
    "sources:\n",
    "- *Bloomberg: https://www.bloomberg.com/news/articles/2019-09-22/how-private-credit-soared-to-fuel-private-equity-boom-quicktake*\n",
    "- *Standard & Poor: https://www.spglobal.com/en/research-insights/articles/u-s-corporate-debt-market-the-state-of-play-in-2019*\n",
    "\n",
    "**What research question are you trying to answer?**\n",
    "- We will try to answer how the level, or change in the level of effective federal funds rate affect investment sentiment in the debt investment market. \n",
    " \n",
    "**What are your main findings?**\n",
    "- TBD"
   ]
  },
  {
   "cell_type": "code",
   "execution_count": 16,
   "metadata": {},
   "outputs": [],
   "source": [
    "import numpy as np\n",
    "import pandas as pd\n",
    "from matplotlib import pyplot as plt\n",
    "from sklearn.linear_model import LinearRegression\n",
    "from sklearn.metrics import r2_score\n",
    "from datetime import datetime"
   ]
  },
  {
   "cell_type": "code",
   "execution_count": 17,
   "metadata": {},
   "outputs": [
    {
     "name": "stdout",
     "output_type": "stream",
     "text": [
      "         DATE  DFF\n",
      "0  1970-07-01  7.0\n",
      "1  1970-07-02  7.5\n",
      "2  1970-07-03  7.5\n",
      "3  1970-07-04  7.5\n",
      "4  1970-07-05  7.5 \n",
      "\n",
      "         DATE VIXCLS\n",
      "0  1990-01-02  17.24\n",
      "1  1990-01-03  18.19\n",
      "2  1990-01-04  19.22\n",
      "3  1990-01-05  20.11\n",
      "4  1990-01-08  20.26 \n",
      "\n",
      "         DATE BAMLC0A1CAAAEY\n",
      "0  12/31/1996           6.72\n",
      "1    1/1/1997              .\n",
      "2    1/2/1997            6.8\n",
      "3    1/3/1997            6.8\n",
      "4    1/6/1997            6.8 \n",
      "\n",
      "         DATE BAMLC0A2CAAEY\n",
      "0  1996-12-31          6.82\n",
      "1  1997-01-01             .\n",
      "2  1997-01-02          6.92\n",
      "3  1997-01-03          6.90\n",
      "4  1997-01-06          6.92 \n",
      "\n",
      "         DATE BAMLC0A3CAEY\n",
      "0  1996-12-31         6.97\n",
      "1  1997-01-01            .\n",
      "2  1997-01-02         7.06\n",
      "3  1997-01-03         7.04\n",
      "4  1997-01-06         7.06 \n",
      "\n",
      "         DATE BAMLC0A4CBBBEY\n",
      "0  1996-12-31           7.26\n",
      "1  1997-01-01              .\n",
      "2  1997-01-02           7.36\n",
      "3  1997-01-03           7.34\n",
      "4  1997-01-06           7.37 \n",
      "\n",
      "         DATE DGS10\n",
      "0  1962-01-02  4.06\n",
      "1  1962-01-03  4.03\n",
      "2  1962-01-04  3.99\n",
      "3  1962-01-05  4.02\n",
      "4  1962-01-08  4.03 \n",
      "\n",
      "         DATE BAMLH0A1HYBB\n",
      "0  12/31/1996         1.95\n",
      "1    1/1/1997            .\n",
      "2    1/2/1997         1.92\n",
      "3    1/3/1997         1.94\n",
      "4    1/6/1997         1.94 \n",
      "\n",
      "         DATE BAMLH0A2HYB\n",
      "0  1996-12-31        3.61\n",
      "1  1997-01-01           .\n",
      "2  1997-01-02        3.51\n",
      "3  1997-01-03        3.54\n",
      "4  1997-01-06        3.55 \n",
      "\n",
      "         DATE BAMLH0A3HYC\n",
      "0  1996-12-31        7.38\n",
      "1  1997-01-01           .\n",
      "2  1997-01-02        7.28\n",
      "3  1997-01-03        7.37\n",
      "4  1997-01-06        7.36 \n",
      "\n",
      "         DATE    NCBCMDPMVCE\n",
      "0  1945-10-01  43.0619630553\n",
      "1  1946-01-01              .\n",
      "2  1946-04-01              .\n",
      "3  1946-07-01              .\n",
      "4  1946-10-01  51.2728142815 \n",
      "\n",
      "         DATE          VALUE\n",
      "0   4/28/2020  3.15 estimate\n",
      "1   3/31/2020  2.83 estimate\n",
      "2  12/31/2019           3.53\n",
      "3   9/30/2019            3.3\n",
      "4   6/30/2019           3.32 \n",
      "\n"
     ]
    }
   ],
   "source": [
    "# import csv files from FRED and Other website\n",
    "\n",
    "# [Daily] effective federal funds rate\n",
    "effr = pd.read_csv(\"EFFR.csv\")\n",
    "print(effr.head(), \"\\n\")\n",
    "\n",
    "# [Daily] volatility index\n",
    "vix = pd.read_csv(\"VIX.csv\")\n",
    "print(vix.head(), \"\\n\")\n",
    "\n",
    "# [Daily] U.S. investment grade corporate bonds yield to maturity (AAA ~ BBB)\n",
    "yield_aaa = pd.read_csv(\"Yield_AAA.csv\")\n",
    "print(yield_aaa.head(), \"\\n\")\n",
    "\n",
    "yield_aa = pd.read_csv(\"Yield_AA.csv\")\n",
    "print(yield_aa.head(), \"\\n\")\n",
    "\n",
    "yield_a = pd.read_csv(\"Yield_A.csv\")\n",
    "print(yield_a.head(), \"\\n\")\n",
    "\n",
    "yield_bbb = pd.read_csv(\"Yield_BBB.csv\")\n",
    "print(yield_bbb.head(), \"\\n\")\n",
    "\n",
    "# [Daily] U.S. risk free rate (yield to maturity on 10 year U.S. treasury bond)\n",
    "rfr = pd.read_csv(\"RFR.csv\")\n",
    "print(rfr.head(), \"\\n\")\n",
    "\n",
    "# [Daily] U.S. speculative grade corporate bonds option adjusted spread (BB ~ CCC&Lower)\n",
    "spread_bb = pd.read_csv(\"OAS_BB.csv\")\n",
    "print(spread_bb.head(), \"\\n\")\n",
    "\n",
    "spread_b = pd.read_csv(\"OAS_B.csv\")\n",
    "print(spread_b.head(), \"\\n\")\n",
    "\n",
    "spread_ccc = pd.read_csv(\"OAS_CCC&Lower.csv\")\n",
    "print(spread_ccc.head(), \"\\n\")\n",
    "\n",
    "# [Daily] Debt to market values of equity ratio (measure of leverage)\n",
    "debt_to_mkt_equity = pd.read_csv(\"Debt_to_Equity.csv\")  \n",
    "print(debt_to_mkt_equity.head(), \"\\n\")\n",
    "\n",
    "# [Quarterely] S&P 500 price to book ratio \n",
    "price_to_book = pd.read_csv(\"Price_to_Book.csv\")\n",
    "print(price_to_book.head(), \"\\n\")"
   ]
  },
  {
   "cell_type": "code",
   "execution_count": null,
   "metadata": {},
   "outputs": [
    {
     "name": "stdout",
     "output_type": "stream",
     "text": [
      "            DATE BAMLC0A1CAAAEY\n",
      "0     1996-12-31           6.72\n",
      "1     1997-01-01              .\n",
      "2     1997-01-02            6.8\n",
      "3     1997-01-03            6.8\n",
      "4     1997-01-06            6.8\n",
      "...          ...            ...\n",
      "6158  2020-04-20           1.81\n",
      "6159  2020-04-21            1.8\n",
      "6160  2020-04-22           1.83\n",
      "6161  2020-04-23           1.79\n",
      "6162  2020-04-24           1.79\n",
      "\n",
      "[6163 rows x 2 columns]\n"
     ]
    }
   ],
   "source": [
    "# change date formats \n",
    "\n",
    "# yield_aaa\n",
    "for num in range(len(yield_aaa)):\n",
    "    date = str(yield_aaa.loc[num][0])\n",
    "    date_object = datetime.strptime(date, '%m/%d/%Y')\n",
    "    new_date = date_object.strftime('%Y-%m-%d')\n",
    "    yield_aaa.loc[num][0] = new_date\n",
    "\n",
    "print(yield_aaa)\n",
    "\n",
    "# spread_bb\n",
    "for num in range(len(spread_bb)):\n",
    "    date = str(spread_bb.loc[num][0])\n",
    "    date_object = datetime.strptime(date, '%m/%d/%Y')\n",
    "    new_date = date_object.strftime('%Y-%m-%d')\n",
    "    spread_bb.loc[num][0] = new_date\n",
    "\n",
    "print(spread_bb.head())\n",
    "\n",
    "# price_to_book\n",
    "for num in range(len(price_to_book)):\n",
    "    date = str(price_to_book.loc[num][0])\n",
    "    date_object = datetime.strptime(date, '%m/%d/%Y')\n",
    "    new_date = date_object.strftime('%Y-%m-%d')\n",
    "    price_to_book.loc[num][0] = new_date\n",
    "\n",
    "# get rid of weird values in price_to_book\n",
    "for num in range(len(price_to_book[\"VALUE\"])):\n",
    "    if len(price_to_book[\"VALUE\"][num]) > 5:\n",
    "        price_to_book[\"VALUE\"][num] = float(price_to_book[\"VALUE\"][num][:4])\n",
    "    else:\n",
    "        price_to_book[\"VALUE\"][num] = float(price_to_book[\"VALUE\"][num])\n",
    "        \n",
    "print(price_to_book)"
   ]
  },
  {
   "cell_type": "code",
   "execution_count": null,
   "metadata": {},
   "outputs": [],
   "source": [
    "# Merge daily data\n",
    "\n",
    "daily_to_merge = [effr, vix, yield_aaa, yield_aa, yield_a, yield_bbb, rfr, spread_bb, spread_b, spread_ccc]\n",
    "\n",
    "daily_merged = {}\n",
    "\n",
    "for num in range(len(daily_to_merge)-1):\n",
    "    if num == 0:\n",
    "        daily_merged = pd.merge(daily_to_merge[num], daily_to_merge[num+1], on='DATE')\n",
    "    else:\n",
    "        daily_merged = pd.merge(daily_merged, daily_to_merge[num+1], on=\"DATE\")\n",
    "\n",
    "daily_merged.columns = [\"date\", \"effr\", \"vix\", \"yield_aaa\", \"yield_aa\", \"yield_a\", \"yield_bbb\", \\\n",
    "                        \"rfr\", \"spread_bb\", \"spread_b\", \"spread_ccc\"]\n",
    "\n",
    "daily_merged.head()\n",
    "\n"
   ]
  },
  {
   "cell_type": "markdown",
   "metadata": {},
   "source": [
    "## Data Description##"
   ]
  },
  {
   "cell_type": "markdown",
   "metadata": {},
   "source": [
    "**What are the observations (rows) and the attributes (columns)?**\n",
    "\n",
    "- The index column is date, and other columns consist of predictor variables: effective federal funds rate (effr), volatility index (vix), and debt to equity ratio (debt_to_equity), which represents the level of corporate debt at a given time. Price to book column will be used to normalize the debt to equity column - details on why this might be necessary will be explained in more depth later. The other columns, yield_aaa ~ yield_bbb and spread_bb ~ spread_ccc&lower represent the expected yield (the rate of return one can expect by investing in a debt investment and holding it to maturity) for different corporate bond ratings: AAA, AA, A, BBB are Investment Grade, and BB, B, CCC & lower are speculative grade. Lastly, the column header DGS10 represent \n",
    "\n",
    "- Each row represents the given level of yield on debt investments of different ratings, and other financial metrics that convey information on investor confidence, and government's eagerness to circulate additional cash throughout the U.S. economy. \n"
   ]
  },
  {
   "cell_type": "markdown",
   "metadata": {},
   "source": [
    "**Why was this dataset created?**\n",
    "\n",
    "- These data were provided by FRED and S&P to provide investors with information on the state of U.S.' economy and investment landscape. "
   ]
  },
  {
   "cell_type": "markdown",
   "metadata": {},
   "source": [
    "**Who funded the creation of the dataset?**\n",
    "\n",
    "- FRED is funded by the U.S. government, and S&P funds itself as a for-profit corporate."
   ]
  },
  {
   "cell_type": "markdown",
   "metadata": {},
   "source": [
    "**What processes might have influenced what data was observed and recorded and what was not?**\n",
    "\n",
    "- The yield/ price of individual investment asset class that could be easily tracked every day, such as the yield on U.S. AAA rated corporate debt, has been observed daily. Days when these data were not collected may include holidays, when markets around the world were closed.\n",
    "- Quarterely data, such as Debt to Equity and Price to Book ratios were probably not recorded on daily basis because information such as amount of debt and book value of equity are only updated quarterely, when public companies file their financial information to investors in compliance with the Securities and Exchange Commission."
   ]
  },
  {
   "cell_type": "markdown",
   "metadata": {},
   "source": [
    "**What preprocessing was done, and how did the data come to be in the form that you are using?**\n",
    "\n",
    "- All data excluding Price to Book were downloaded from FRED in csv format and required no pre-processing outside of Jupyter.\n",
    "- Price to Book was copied and pasted into an excel sheet from S&P's website. Then, I changed the column header for date from \"date\" to \"DATE\" in order to standardize it to other date column headers from FRED."
   ]
  },
  {
   "cell_type": "markdown",
   "metadata": {},
   "source": [
    "**If people are involved, were they aware of the data collection and if so, what purpose did they expect the data to be used for?**\n",
    "\n",
    "- N/A"
   ]
  },
  {
   "cell_type": "markdown",
   "metadata": {},
   "source": [
    "**Where can your raw source data be found, if applicable? Provide a link to the raw data (hosted in a Cornell Google Drive or Cornell Box).** \n",
    "\n",
    "Source: \n",
    "- *Fred: https://fred.stlouisfed.org/*\n",
    "- *Standard & Poor: https://www.multpl.com/s-p-500-price-to-book/table/by-quarter*"
   ]
  }
 ],
 "metadata": {
  "kernelspec": {
   "display_name": "Python 3",
   "language": "python",
   "name": "python3"
  },
  "language_info": {
   "codemirror_mode": {
    "name": "ipython",
    "version": 3
   },
   "file_extension": ".py",
   "mimetype": "text/x-python",
   "name": "python",
   "nbconvert_exporter": "python",
   "pygments_lexer": "ipython3",
   "version": "3.7.4"
  }
 },
 "nbformat": 4,
 "nbformat_minor": 2
}
